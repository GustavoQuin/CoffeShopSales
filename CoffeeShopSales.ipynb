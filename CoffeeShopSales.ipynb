{
 "cells": [
  {
   "cell_type": "code",
   "execution_count": 1,
   "id": "be3ff3ca-ca42-416e-95ed-37a40ab54ef5",
   "metadata": {},
   "outputs": [],
   "source": [
    "import pandas as pd\n",
    "data = pd.read_excel('Coffee Shop Sales.xlsx')"
   ]
  },
  {
   "cell_type": "code",
   "execution_count": 3,
   "id": "4328bc9e-00c9-41e8-9e69-abe1233c94e7",
   "metadata": {},
   "outputs": [
    {
     "data": {
      "text/html": [
       "<div>\n",
       "<style scoped>\n",
       "    .dataframe tbody tr th:only-of-type {\n",
       "        vertical-align: middle;\n",
       "    }\n",
       "\n",
       "    .dataframe tbody tr th {\n",
       "        vertical-align: top;\n",
       "    }\n",
       "\n",
       "    .dataframe thead th {\n",
       "        text-align: right;\n",
       "    }\n",
       "</style>\n",
       "<table border=\"1\" class=\"dataframe\">\n",
       "  <thead>\n",
       "    <tr style=\"text-align: right;\">\n",
       "      <th></th>\n",
       "      <th>transaction_id</th>\n",
       "      <th>transaction_date</th>\n",
       "      <th>transaction_time</th>\n",
       "      <th>transaction_qty</th>\n",
       "      <th>store_id</th>\n",
       "      <th>store_location</th>\n",
       "      <th>product_id</th>\n",
       "      <th>unit_price</th>\n",
       "      <th>product_category</th>\n",
       "      <th>product_type</th>\n",
       "      <th>product_detail</th>\n",
       "    </tr>\n",
       "  </thead>\n",
       "  <tbody>\n",
       "    <tr>\n",
       "      <th>0</th>\n",
       "      <td>1</td>\n",
       "      <td>2023-01-01</td>\n",
       "      <td>07:06:11</td>\n",
       "      <td>2</td>\n",
       "      <td>5</td>\n",
       "      <td>Lower Manhattan</td>\n",
       "      <td>32</td>\n",
       "      <td>3.00</td>\n",
       "      <td>Coffee</td>\n",
       "      <td>Gourmet brewed coffee</td>\n",
       "      <td>Ethiopia Rg</td>\n",
       "    </tr>\n",
       "    <tr>\n",
       "      <th>1</th>\n",
       "      <td>2</td>\n",
       "      <td>2023-01-01</td>\n",
       "      <td>07:08:56</td>\n",
       "      <td>2</td>\n",
       "      <td>5</td>\n",
       "      <td>Lower Manhattan</td>\n",
       "      <td>57</td>\n",
       "      <td>3.10</td>\n",
       "      <td>Tea</td>\n",
       "      <td>Brewed Chai tea</td>\n",
       "      <td>Spicy Eye Opener Chai Lg</td>\n",
       "    </tr>\n",
       "    <tr>\n",
       "      <th>2</th>\n",
       "      <td>3</td>\n",
       "      <td>2023-01-01</td>\n",
       "      <td>07:14:04</td>\n",
       "      <td>2</td>\n",
       "      <td>5</td>\n",
       "      <td>Lower Manhattan</td>\n",
       "      <td>59</td>\n",
       "      <td>4.50</td>\n",
       "      <td>Drinking Chocolate</td>\n",
       "      <td>Hot chocolate</td>\n",
       "      <td>Dark chocolate Lg</td>\n",
       "    </tr>\n",
       "    <tr>\n",
       "      <th>3</th>\n",
       "      <td>4</td>\n",
       "      <td>2023-01-01</td>\n",
       "      <td>07:20:24</td>\n",
       "      <td>1</td>\n",
       "      <td>5</td>\n",
       "      <td>Lower Manhattan</td>\n",
       "      <td>22</td>\n",
       "      <td>2.00</td>\n",
       "      <td>Coffee</td>\n",
       "      <td>Drip coffee</td>\n",
       "      <td>Our Old Time Diner Blend Sm</td>\n",
       "    </tr>\n",
       "    <tr>\n",
       "      <th>4</th>\n",
       "      <td>5</td>\n",
       "      <td>2023-01-01</td>\n",
       "      <td>07:22:41</td>\n",
       "      <td>2</td>\n",
       "      <td>5</td>\n",
       "      <td>Lower Manhattan</td>\n",
       "      <td>57</td>\n",
       "      <td>3.10</td>\n",
       "      <td>Tea</td>\n",
       "      <td>Brewed Chai tea</td>\n",
       "      <td>Spicy Eye Opener Chai Lg</td>\n",
       "    </tr>\n",
       "    <tr>\n",
       "      <th>...</th>\n",
       "      <td>...</td>\n",
       "      <td>...</td>\n",
       "      <td>...</td>\n",
       "      <td>...</td>\n",
       "      <td>...</td>\n",
       "      <td>...</td>\n",
       "      <td>...</td>\n",
       "      <td>...</td>\n",
       "      <td>...</td>\n",
       "      <td>...</td>\n",
       "      <td>...</td>\n",
       "    </tr>\n",
       "    <tr>\n",
       "      <th>149111</th>\n",
       "      <td>149452</td>\n",
       "      <td>2023-06-30</td>\n",
       "      <td>20:18:41</td>\n",
       "      <td>2</td>\n",
       "      <td>8</td>\n",
       "      <td>Hell's Kitchen</td>\n",
       "      <td>44</td>\n",
       "      <td>2.50</td>\n",
       "      <td>Tea</td>\n",
       "      <td>Brewed herbal tea</td>\n",
       "      <td>Peppermint Rg</td>\n",
       "    </tr>\n",
       "    <tr>\n",
       "      <th>149112</th>\n",
       "      <td>149453</td>\n",
       "      <td>2023-06-30</td>\n",
       "      <td>20:25:10</td>\n",
       "      <td>2</td>\n",
       "      <td>8</td>\n",
       "      <td>Hell's Kitchen</td>\n",
       "      <td>49</td>\n",
       "      <td>3.00</td>\n",
       "      <td>Tea</td>\n",
       "      <td>Brewed Black tea</td>\n",
       "      <td>English Breakfast Lg</td>\n",
       "    </tr>\n",
       "    <tr>\n",
       "      <th>149113</th>\n",
       "      <td>149454</td>\n",
       "      <td>2023-06-30</td>\n",
       "      <td>20:31:34</td>\n",
       "      <td>1</td>\n",
       "      <td>8</td>\n",
       "      <td>Hell's Kitchen</td>\n",
       "      <td>45</td>\n",
       "      <td>3.00</td>\n",
       "      <td>Tea</td>\n",
       "      <td>Brewed herbal tea</td>\n",
       "      <td>Peppermint Lg</td>\n",
       "    </tr>\n",
       "    <tr>\n",
       "      <th>149114</th>\n",
       "      <td>149455</td>\n",
       "      <td>2023-06-30</td>\n",
       "      <td>20:57:19</td>\n",
       "      <td>1</td>\n",
       "      <td>8</td>\n",
       "      <td>Hell's Kitchen</td>\n",
       "      <td>40</td>\n",
       "      <td>3.75</td>\n",
       "      <td>Coffee</td>\n",
       "      <td>Barista Espresso</td>\n",
       "      <td>Cappuccino</td>\n",
       "    </tr>\n",
       "    <tr>\n",
       "      <th>149115</th>\n",
       "      <td>149456</td>\n",
       "      <td>2023-06-30</td>\n",
       "      <td>20:57:19</td>\n",
       "      <td>2</td>\n",
       "      <td>8</td>\n",
       "      <td>Hell's Kitchen</td>\n",
       "      <td>64</td>\n",
       "      <td>0.80</td>\n",
       "      <td>Flavours</td>\n",
       "      <td>Regular syrup</td>\n",
       "      <td>Hazelnut syrup</td>\n",
       "    </tr>\n",
       "  </tbody>\n",
       "</table>\n",
       "<p>149116 rows × 11 columns</p>\n",
       "</div>"
      ],
      "text/plain": [
       "        transaction_id transaction_date transaction_time  transaction_qty  \\\n",
       "0                    1       2023-01-01         07:06:11                2   \n",
       "1                    2       2023-01-01         07:08:56                2   \n",
       "2                    3       2023-01-01         07:14:04                2   \n",
       "3                    4       2023-01-01         07:20:24                1   \n",
       "4                    5       2023-01-01         07:22:41                2   \n",
       "...                ...              ...              ...              ...   \n",
       "149111          149452       2023-06-30         20:18:41                2   \n",
       "149112          149453       2023-06-30         20:25:10                2   \n",
       "149113          149454       2023-06-30         20:31:34                1   \n",
       "149114          149455       2023-06-30         20:57:19                1   \n",
       "149115          149456       2023-06-30         20:57:19                2   \n",
       "\n",
       "        store_id   store_location  product_id  unit_price    product_category  \\\n",
       "0              5  Lower Manhattan          32        3.00              Coffee   \n",
       "1              5  Lower Manhattan          57        3.10                 Tea   \n",
       "2              5  Lower Manhattan          59        4.50  Drinking Chocolate   \n",
       "3              5  Lower Manhattan          22        2.00              Coffee   \n",
       "4              5  Lower Manhattan          57        3.10                 Tea   \n",
       "...          ...              ...         ...         ...                 ...   \n",
       "149111         8   Hell's Kitchen          44        2.50                 Tea   \n",
       "149112         8   Hell's Kitchen          49        3.00                 Tea   \n",
       "149113         8   Hell's Kitchen          45        3.00                 Tea   \n",
       "149114         8   Hell's Kitchen          40        3.75              Coffee   \n",
       "149115         8   Hell's Kitchen          64        0.80            Flavours   \n",
       "\n",
       "                 product_type               product_detail  \n",
       "0       Gourmet brewed coffee                  Ethiopia Rg  \n",
       "1             Brewed Chai tea     Spicy Eye Opener Chai Lg  \n",
       "2               Hot chocolate            Dark chocolate Lg  \n",
       "3                 Drip coffee  Our Old Time Diner Blend Sm  \n",
       "4             Brewed Chai tea     Spicy Eye Opener Chai Lg  \n",
       "...                       ...                          ...  \n",
       "149111      Brewed herbal tea                Peppermint Rg  \n",
       "149112       Brewed Black tea         English Breakfast Lg  \n",
       "149113      Brewed herbal tea                Peppermint Lg  \n",
       "149114       Barista Espresso                   Cappuccino  \n",
       "149115          Regular syrup               Hazelnut syrup  \n",
       "\n",
       "[149116 rows x 11 columns]"
      ]
     },
     "execution_count": 3,
     "metadata": {},
     "output_type": "execute_result"
    }
   ],
   "source": [
    "data   "
   ]
  },
  {
   "cell_type": "code",
   "execution_count": 7,
   "id": "4a4f0862-1e98-4a5f-84c6-e331c15b3713",
   "metadata": {},
   "outputs": [
    {
     "data": {
      "text/html": [
       "<div>\n",
       "<style scoped>\n",
       "    .dataframe tbody tr th:only-of-type {\n",
       "        vertical-align: middle;\n",
       "    }\n",
       "\n",
       "    .dataframe tbody tr th {\n",
       "        vertical-align: top;\n",
       "    }\n",
       "\n",
       "    .dataframe thead th {\n",
       "        text-align: right;\n",
       "    }\n",
       "</style>\n",
       "<table border=\"1\" class=\"dataframe\">\n",
       "  <thead>\n",
       "    <tr style=\"text-align: right;\">\n",
       "      <th></th>\n",
       "      <th>transaction_id</th>\n",
       "      <th>transaction_date</th>\n",
       "      <th>transaction_qty</th>\n",
       "      <th>store_id</th>\n",
       "      <th>product_id</th>\n",
       "      <th>unit_price</th>\n",
       "    </tr>\n",
       "  </thead>\n",
       "  <tbody>\n",
       "    <tr>\n",
       "      <th>count</th>\n",
       "      <td>149116.000000</td>\n",
       "      <td>149116</td>\n",
       "      <td>149116.000000</td>\n",
       "      <td>149116.000000</td>\n",
       "      <td>149116.000000</td>\n",
       "      <td>149116.000000</td>\n",
       "    </tr>\n",
       "    <tr>\n",
       "      <th>mean</th>\n",
       "      <td>74737.371872</td>\n",
       "      <td>2023-04-15 11:50:32.173609984</td>\n",
       "      <td>1.438276</td>\n",
       "      <td>5.342063</td>\n",
       "      <td>47.918607</td>\n",
       "      <td>3.382219</td>\n",
       "    </tr>\n",
       "    <tr>\n",
       "      <th>min</th>\n",
       "      <td>1.000000</td>\n",
       "      <td>2023-01-01 00:00:00</td>\n",
       "      <td>1.000000</td>\n",
       "      <td>3.000000</td>\n",
       "      <td>1.000000</td>\n",
       "      <td>0.800000</td>\n",
       "    </tr>\n",
       "    <tr>\n",
       "      <th>25%</th>\n",
       "      <td>37335.750000</td>\n",
       "      <td>2023-03-06 00:00:00</td>\n",
       "      <td>1.000000</td>\n",
       "      <td>3.000000</td>\n",
       "      <td>33.000000</td>\n",
       "      <td>2.500000</td>\n",
       "    </tr>\n",
       "    <tr>\n",
       "      <th>50%</th>\n",
       "      <td>74727.500000</td>\n",
       "      <td>2023-04-24 00:00:00</td>\n",
       "      <td>1.000000</td>\n",
       "      <td>5.000000</td>\n",
       "      <td>47.000000</td>\n",
       "      <td>3.000000</td>\n",
       "    </tr>\n",
       "    <tr>\n",
       "      <th>75%</th>\n",
       "      <td>112094.250000</td>\n",
       "      <td>2023-05-30 00:00:00</td>\n",
       "      <td>2.000000</td>\n",
       "      <td>8.000000</td>\n",
       "      <td>60.000000</td>\n",
       "      <td>3.750000</td>\n",
       "    </tr>\n",
       "    <tr>\n",
       "      <th>max</th>\n",
       "      <td>149456.000000</td>\n",
       "      <td>2023-06-30 00:00:00</td>\n",
       "      <td>8.000000</td>\n",
       "      <td>8.000000</td>\n",
       "      <td>87.000000</td>\n",
       "      <td>45.000000</td>\n",
       "    </tr>\n",
       "    <tr>\n",
       "      <th>std</th>\n",
       "      <td>43153.600016</td>\n",
       "      <td>NaN</td>\n",
       "      <td>0.542509</td>\n",
       "      <td>2.074241</td>\n",
       "      <td>17.930020</td>\n",
       "      <td>2.658723</td>\n",
       "    </tr>\n",
       "  </tbody>\n",
       "</table>\n",
       "</div>"
      ],
      "text/plain": [
       "       transaction_id               transaction_date  transaction_qty  \\\n",
       "count   149116.000000                         149116    149116.000000   \n",
       "mean     74737.371872  2023-04-15 11:50:32.173609984         1.438276   \n",
       "min          1.000000            2023-01-01 00:00:00         1.000000   \n",
       "25%      37335.750000            2023-03-06 00:00:00         1.000000   \n",
       "50%      74727.500000            2023-04-24 00:00:00         1.000000   \n",
       "75%     112094.250000            2023-05-30 00:00:00         2.000000   \n",
       "max     149456.000000            2023-06-30 00:00:00         8.000000   \n",
       "std      43153.600016                            NaN         0.542509   \n",
       "\n",
       "            store_id     product_id     unit_price  \n",
       "count  149116.000000  149116.000000  149116.000000  \n",
       "mean        5.342063      47.918607       3.382219  \n",
       "min         3.000000       1.000000       0.800000  \n",
       "25%         3.000000      33.000000       2.500000  \n",
       "50%         5.000000      47.000000       3.000000  \n",
       "75%         8.000000      60.000000       3.750000  \n",
       "max         8.000000      87.000000      45.000000  \n",
       "std         2.074241      17.930020       2.658723  "
      ]
     },
     "execution_count": 7,
     "metadata": {},
     "output_type": "execute_result"
    }
   ],
   "source": [
    "data.describe()"
   ]
  },
  {
   "cell_type": "code",
   "execution_count": 31,
   "id": "dcc5d90a-2a35-435d-a550-ccc164bba638",
   "metadata": {},
   "outputs": [],
   "source": [
    "#Now we check for null values (there are none)"
   ]
  },
  {
   "cell_type": "code",
   "execution_count": 9,
   "id": "9ede174d-8891-4c7c-8f76-88a8a9c778b1",
   "metadata": {},
   "outputs": [
    {
     "data": {
      "text/plain": [
       "transaction_id      0\n",
       "transaction_date    0\n",
       "transaction_time    0\n",
       "transaction_qty     0\n",
       "store_id            0\n",
       "store_location      0\n",
       "product_id          0\n",
       "unit_price          0\n",
       "product_category    0\n",
       "product_type        0\n",
       "product_detail      0\n",
       "dtype: int64"
      ]
     },
     "execution_count": 9,
     "metadata": {},
     "output_type": "execute_result"
    }
   ],
   "source": [
    "data.isna().sum()"
   ]
  },
  {
   "cell_type": "code",
   "execution_count": 37,
   "id": "11c5e143-0b9b-43d0-8e01-452cdf3401cc",
   "metadata": {},
   "outputs": [],
   "source": [
    "#We add a week day column"
   ]
  },
  {
   "cell_type": "code",
   "execution_count": 11,
   "id": "5096b979-f84b-4a16-87e1-ab3e79b4c841",
   "metadata": {},
   "outputs": [],
   "source": [
    "data['week day'] = data['transaction_date'].dt.strftime('%A')"
   ]
  },
  {
   "cell_type": "code",
   "execution_count": 13,
   "id": "33eb3d5b-fc0f-4941-83bb-eedd7b0f8920",
   "metadata": {},
   "outputs": [
    {
     "data": {
      "text/html": [
       "<div>\n",
       "<style scoped>\n",
       "    .dataframe tbody tr th:only-of-type {\n",
       "        vertical-align: middle;\n",
       "    }\n",
       "\n",
       "    .dataframe tbody tr th {\n",
       "        vertical-align: top;\n",
       "    }\n",
       "\n",
       "    .dataframe thead th {\n",
       "        text-align: right;\n",
       "    }\n",
       "</style>\n",
       "<table border=\"1\" class=\"dataframe\">\n",
       "  <thead>\n",
       "    <tr style=\"text-align: right;\">\n",
       "      <th></th>\n",
       "      <th>transaction_id</th>\n",
       "      <th>transaction_date</th>\n",
       "      <th>transaction_time</th>\n",
       "      <th>transaction_qty</th>\n",
       "      <th>store_id</th>\n",
       "      <th>store_location</th>\n",
       "      <th>product_id</th>\n",
       "      <th>unit_price</th>\n",
       "      <th>product_category</th>\n",
       "      <th>product_type</th>\n",
       "      <th>product_detail</th>\n",
       "      <th>week day</th>\n",
       "    </tr>\n",
       "  </thead>\n",
       "  <tbody>\n",
       "    <tr>\n",
       "      <th>0</th>\n",
       "      <td>1</td>\n",
       "      <td>2023-01-01</td>\n",
       "      <td>07:06:11</td>\n",
       "      <td>2</td>\n",
       "      <td>5</td>\n",
       "      <td>Lower Manhattan</td>\n",
       "      <td>32</td>\n",
       "      <td>3.0</td>\n",
       "      <td>Coffee</td>\n",
       "      <td>Gourmet brewed coffee</td>\n",
       "      <td>Ethiopia Rg</td>\n",
       "      <td>Sunday</td>\n",
       "    </tr>\n",
       "    <tr>\n",
       "      <th>1</th>\n",
       "      <td>2</td>\n",
       "      <td>2023-01-01</td>\n",
       "      <td>07:08:56</td>\n",
       "      <td>2</td>\n",
       "      <td>5</td>\n",
       "      <td>Lower Manhattan</td>\n",
       "      <td>57</td>\n",
       "      <td>3.1</td>\n",
       "      <td>Tea</td>\n",
       "      <td>Brewed Chai tea</td>\n",
       "      <td>Spicy Eye Opener Chai Lg</td>\n",
       "      <td>Sunday</td>\n",
       "    </tr>\n",
       "    <tr>\n",
       "      <th>2</th>\n",
       "      <td>3</td>\n",
       "      <td>2023-01-01</td>\n",
       "      <td>07:14:04</td>\n",
       "      <td>2</td>\n",
       "      <td>5</td>\n",
       "      <td>Lower Manhattan</td>\n",
       "      <td>59</td>\n",
       "      <td>4.5</td>\n",
       "      <td>Drinking Chocolate</td>\n",
       "      <td>Hot chocolate</td>\n",
       "      <td>Dark chocolate Lg</td>\n",
       "      <td>Sunday</td>\n",
       "    </tr>\n",
       "    <tr>\n",
       "      <th>3</th>\n",
       "      <td>4</td>\n",
       "      <td>2023-01-01</td>\n",
       "      <td>07:20:24</td>\n",
       "      <td>1</td>\n",
       "      <td>5</td>\n",
       "      <td>Lower Manhattan</td>\n",
       "      <td>22</td>\n",
       "      <td>2.0</td>\n",
       "      <td>Coffee</td>\n",
       "      <td>Drip coffee</td>\n",
       "      <td>Our Old Time Diner Blend Sm</td>\n",
       "      <td>Sunday</td>\n",
       "    </tr>\n",
       "    <tr>\n",
       "      <th>4</th>\n",
       "      <td>5</td>\n",
       "      <td>2023-01-01</td>\n",
       "      <td>07:22:41</td>\n",
       "      <td>2</td>\n",
       "      <td>5</td>\n",
       "      <td>Lower Manhattan</td>\n",
       "      <td>57</td>\n",
       "      <td>3.1</td>\n",
       "      <td>Tea</td>\n",
       "      <td>Brewed Chai tea</td>\n",
       "      <td>Spicy Eye Opener Chai Lg</td>\n",
       "      <td>Sunday</td>\n",
       "    </tr>\n",
       "  </tbody>\n",
       "</table>\n",
       "</div>"
      ],
      "text/plain": [
       "   transaction_id transaction_date transaction_time  transaction_qty  \\\n",
       "0               1       2023-01-01         07:06:11                2   \n",
       "1               2       2023-01-01         07:08:56                2   \n",
       "2               3       2023-01-01         07:14:04                2   \n",
       "3               4       2023-01-01         07:20:24                1   \n",
       "4               5       2023-01-01         07:22:41                2   \n",
       "\n",
       "   store_id   store_location  product_id  unit_price    product_category  \\\n",
       "0         5  Lower Manhattan          32         3.0              Coffee   \n",
       "1         5  Lower Manhattan          57         3.1                 Tea   \n",
       "2         5  Lower Manhattan          59         4.5  Drinking Chocolate   \n",
       "3         5  Lower Manhattan          22         2.0              Coffee   \n",
       "4         5  Lower Manhattan          57         3.1                 Tea   \n",
       "\n",
       "            product_type               product_detail week day  \n",
       "0  Gourmet brewed coffee                  Ethiopia Rg   Sunday  \n",
       "1        Brewed Chai tea     Spicy Eye Opener Chai Lg   Sunday  \n",
       "2          Hot chocolate            Dark chocolate Lg   Sunday  \n",
       "3            Drip coffee  Our Old Time Diner Blend Sm   Sunday  \n",
       "4        Brewed Chai tea     Spicy Eye Opener Chai Lg   Sunday  "
      ]
     },
     "execution_count": 13,
     "metadata": {},
     "output_type": "execute_result"
    }
   ],
   "source": [
    "data.head()"
   ]
  },
  {
   "cell_type": "code",
   "execution_count": 45,
   "id": "a89a67f5-f5bc-4257-a3d6-480bbdfbc650",
   "metadata": {},
   "outputs": [],
   "source": [
    "#We add time period column"
   ]
  },
  {
   "cell_type": "code",
   "execution_count": 15,
   "id": "928924a0-7d57-4418-aa04-d390b075413e",
   "metadata": {},
   "outputs": [],
   "source": [
    "data['time period'] = data['transaction_time'].apply(lambda x : 'morning' if 6 <= x.hour < 12 else('afternoon' if 12 <= x.hour < 18 else 'evening'))"
   ]
  },
  {
   "cell_type": "code",
   "execution_count": 17,
   "id": "90c1e4ef-4ad4-4cd6-9b86-45fa8b00bb24",
   "metadata": {},
   "outputs": [
    {
     "data": {
      "text/html": [
       "<div>\n",
       "<style scoped>\n",
       "    .dataframe tbody tr th:only-of-type {\n",
       "        vertical-align: middle;\n",
       "    }\n",
       "\n",
       "    .dataframe tbody tr th {\n",
       "        vertical-align: top;\n",
       "    }\n",
       "\n",
       "    .dataframe thead th {\n",
       "        text-align: right;\n",
       "    }\n",
       "</style>\n",
       "<table border=\"1\" class=\"dataframe\">\n",
       "  <thead>\n",
       "    <tr style=\"text-align: right;\">\n",
       "      <th></th>\n",
       "      <th>transaction_id</th>\n",
       "      <th>transaction_date</th>\n",
       "      <th>transaction_time</th>\n",
       "      <th>transaction_qty</th>\n",
       "      <th>store_id</th>\n",
       "      <th>store_location</th>\n",
       "      <th>product_id</th>\n",
       "      <th>unit_price</th>\n",
       "      <th>product_category</th>\n",
       "      <th>product_type</th>\n",
       "      <th>product_detail</th>\n",
       "      <th>week day</th>\n",
       "      <th>time period</th>\n",
       "    </tr>\n",
       "  </thead>\n",
       "  <tbody>\n",
       "    <tr>\n",
       "      <th>149111</th>\n",
       "      <td>149452</td>\n",
       "      <td>2023-06-30</td>\n",
       "      <td>20:18:41</td>\n",
       "      <td>2</td>\n",
       "      <td>8</td>\n",
       "      <td>Hell's Kitchen</td>\n",
       "      <td>44</td>\n",
       "      <td>2.50</td>\n",
       "      <td>Tea</td>\n",
       "      <td>Brewed herbal tea</td>\n",
       "      <td>Peppermint Rg</td>\n",
       "      <td>Friday</td>\n",
       "      <td>evening</td>\n",
       "    </tr>\n",
       "    <tr>\n",
       "      <th>149112</th>\n",
       "      <td>149453</td>\n",
       "      <td>2023-06-30</td>\n",
       "      <td>20:25:10</td>\n",
       "      <td>2</td>\n",
       "      <td>8</td>\n",
       "      <td>Hell's Kitchen</td>\n",
       "      <td>49</td>\n",
       "      <td>3.00</td>\n",
       "      <td>Tea</td>\n",
       "      <td>Brewed Black tea</td>\n",
       "      <td>English Breakfast Lg</td>\n",
       "      <td>Friday</td>\n",
       "      <td>evening</td>\n",
       "    </tr>\n",
       "    <tr>\n",
       "      <th>149113</th>\n",
       "      <td>149454</td>\n",
       "      <td>2023-06-30</td>\n",
       "      <td>20:31:34</td>\n",
       "      <td>1</td>\n",
       "      <td>8</td>\n",
       "      <td>Hell's Kitchen</td>\n",
       "      <td>45</td>\n",
       "      <td>3.00</td>\n",
       "      <td>Tea</td>\n",
       "      <td>Brewed herbal tea</td>\n",
       "      <td>Peppermint Lg</td>\n",
       "      <td>Friday</td>\n",
       "      <td>evening</td>\n",
       "    </tr>\n",
       "    <tr>\n",
       "      <th>149114</th>\n",
       "      <td>149455</td>\n",
       "      <td>2023-06-30</td>\n",
       "      <td>20:57:19</td>\n",
       "      <td>1</td>\n",
       "      <td>8</td>\n",
       "      <td>Hell's Kitchen</td>\n",
       "      <td>40</td>\n",
       "      <td>3.75</td>\n",
       "      <td>Coffee</td>\n",
       "      <td>Barista Espresso</td>\n",
       "      <td>Cappuccino</td>\n",
       "      <td>Friday</td>\n",
       "      <td>evening</td>\n",
       "    </tr>\n",
       "    <tr>\n",
       "      <th>149115</th>\n",
       "      <td>149456</td>\n",
       "      <td>2023-06-30</td>\n",
       "      <td>20:57:19</td>\n",
       "      <td>2</td>\n",
       "      <td>8</td>\n",
       "      <td>Hell's Kitchen</td>\n",
       "      <td>64</td>\n",
       "      <td>0.80</td>\n",
       "      <td>Flavours</td>\n",
       "      <td>Regular syrup</td>\n",
       "      <td>Hazelnut syrup</td>\n",
       "      <td>Friday</td>\n",
       "      <td>evening</td>\n",
       "    </tr>\n",
       "  </tbody>\n",
       "</table>\n",
       "</div>"
      ],
      "text/plain": [
       "        transaction_id transaction_date transaction_time  transaction_qty  \\\n",
       "149111          149452       2023-06-30         20:18:41                2   \n",
       "149112          149453       2023-06-30         20:25:10                2   \n",
       "149113          149454       2023-06-30         20:31:34                1   \n",
       "149114          149455       2023-06-30         20:57:19                1   \n",
       "149115          149456       2023-06-30         20:57:19                2   \n",
       "\n",
       "        store_id  store_location  product_id  unit_price product_category  \\\n",
       "149111         8  Hell's Kitchen          44        2.50              Tea   \n",
       "149112         8  Hell's Kitchen          49        3.00              Tea   \n",
       "149113         8  Hell's Kitchen          45        3.00              Tea   \n",
       "149114         8  Hell's Kitchen          40        3.75           Coffee   \n",
       "149115         8  Hell's Kitchen          64        0.80         Flavours   \n",
       "\n",
       "             product_type        product_detail week day time period  \n",
       "149111  Brewed herbal tea         Peppermint Rg   Friday     evening  \n",
       "149112   Brewed Black tea  English Breakfast Lg   Friday     evening  \n",
       "149113  Brewed herbal tea         Peppermint Lg   Friday     evening  \n",
       "149114   Barista Espresso            Cappuccino   Friday     evening  \n",
       "149115      Regular syrup        Hazelnut syrup   Friday     evening  "
      ]
     },
     "execution_count": 17,
     "metadata": {},
     "output_type": "execute_result"
    }
   ],
   "source": [
    "data.tail()"
   ]
  },
  {
   "cell_type": "code",
   "execution_count": 51,
   "id": "837fbb71-444e-40fa-bf69-c4d653478f63",
   "metadata": {},
   "outputs": [],
   "source": [
    "# Which month has the highest sales?  Month 6 (June) is the month with the highest sales (50,942)"
   ]
  },
  {
   "cell_type": "code",
   "execution_count": 19,
   "id": "cc6d0aa5-a867-4db1-90f2-119ece62a186",
   "metadata": {},
   "outputs": [
    {
     "data": {
      "text/plain": [
       "transaction_date\n",
       "01    24870\n",
       "02    23550\n",
       "03    30406\n",
       "04    36469\n",
       "05    48233\n",
       "06    50942\n",
       "Name: transaction_qty, dtype: int64"
      ]
     },
     "execution_count": 19,
     "metadata": {},
     "output_type": "execute_result"
    }
   ],
   "source": [
    "data.groupby(data['transaction_date'].dt.strftime('%m'))['transaction_qty'].sum()"
   ]
  },
  {
   "cell_type": "code",
   "execution_count": 55,
   "id": "29e2ae06-64de-4a75-8f3f-33dfcf355f71",
   "metadata": {},
   "outputs": [],
   "source": [
    "# Which time of the day are sales the most active? The 'morning' is the most active, with 117,629 transactions."
   ]
  },
  {
   "cell_type": "code",
   "execution_count": 21,
   "id": "b1eebc2e-9fd1-46c8-ba9c-1fb0d463fc15",
   "metadata": {},
   "outputs": [
    {
     "data": {
      "text/plain": [
       "time period\n",
       "afternoon     76540\n",
       "evening       20301\n",
       "morning      117629\n",
       "Name: transaction_qty, dtype: int64"
      ]
     },
     "execution_count": 21,
     "metadata": {},
     "output_type": "execute_result"
    }
   ],
   "source": [
    "data.groupby(data['time period'])['transaction_qty'].sum()"
   ]
  },
  {
   "cell_type": "code",
   "execution_count": 59,
   "id": "02547de2-eaf5-4094-a0f1-a1dbee63e8e0",
   "metadata": {},
   "outputs": [],
   "source": [
    "# Which store has the highest number of sales? The 'Hell's Kitchen' store has the highest number, with 50,735 sales."
   ]
  },
  {
   "cell_type": "code",
   "execution_count": 23,
   "id": "85076181-5bfc-4af1-b57d-28790e2b894f",
   "metadata": {},
   "outputs": [
    {
     "data": {
      "text/plain": [
       "store_location\n",
       "Astoria            50599\n",
       "Hell's Kitchen     50735\n",
       "Lower Manhattan    47782\n",
       "Name: transaction_qty, dtype: int64"
      ]
     },
     "execution_count": 23,
     "metadata": {},
     "output_type": "execute_result"
    }
   ],
   "source": [
    "data.groupby(data['store_location'])['transaction_qty'].count()"
   ]
  },
  {
   "cell_type": "code",
   "execution_count": 63,
   "id": "677a281d-affd-4acf-a508-311367e97b61",
   "metadata": {},
   "outputs": [],
   "source": [
    "# What are the different product categories? 'Coffee', 'Tea', 'Drinking Chocolate', 'Bakery', 'Flavours',\n",
    "#     'Loose Tea', 'Coffee beans', 'Packaged Chocolate', 'Branded'"
   ]
  },
  {
   "cell_type": "code",
   "execution_count": 25,
   "id": "30808770-1e46-4e47-b6f7-aae538a9318b",
   "metadata": {},
   "outputs": [
    {
     "data": {
      "text/plain": [
       "array(['Coffee', 'Tea', 'Drinking Chocolate', 'Bakery', 'Flavours',\n",
       "       'Loose Tea', 'Coffee beans', 'Packaged Chocolate', 'Branded'],\n",
       "      dtype=object)"
      ]
     },
     "execution_count": 25,
     "metadata": {},
     "output_type": "execute_result"
    }
   ],
   "source": [
    "data.product_category.unique()"
   ]
  },
  {
   "cell_type": "code",
   "execution_count": null,
   "id": "5a031e49-3fb4-4d1e-864f-e20ca6162ebd",
   "metadata": {},
   "outputs": [],
   "source": [
    "# Which category has the highest sales? 'Coffee' has the highest sales, with 89,250 transactions."
   ]
  },
  {
   "cell_type": "code",
   "execution_count": 27,
   "id": "f88bef87-6d6e-45e5-9573-501e0e455d9b",
   "metadata": {},
   "outputs": [
    {
     "data": {
      "text/plain": [
       "product_category\n",
       "Packaged Chocolate      487\n",
       "Branded                 776\n",
       "Loose Tea              1210\n",
       "Coffee beans           1828\n",
       "Flavours              10511\n",
       "Drinking Chocolate    17457\n",
       "Bakery                23214\n",
       "Tea                   69737\n",
       "Coffee                89250\n",
       "Name: transaction_qty, dtype: int64"
      ]
     },
     "execution_count": 27,
     "metadata": {},
     "output_type": "execute_result"
    }
   ],
   "source": [
    "data.groupby('product_category')['transaction_qty'].sum().sort_values()"
   ]
  },
  {
   "cell_type": "code",
   "execution_count": 71,
   "id": "b620b356-2a6f-4cf6-892a-3836235bd027",
   "metadata": {},
   "outputs": [],
   "source": [
    "# Which product type has the highest sales? The 'Brewed Chai Tea' has the highest sales, with 17,183 transactions."
   ]
  },
  {
   "cell_type": "code",
   "execution_count": 29,
   "id": "ab2681f2-ee6d-4df4-a2f1-62ade2105533",
   "metadata": {},
   "outputs": [
    {
     "data": {
      "text/plain": [
       "product_type\n",
       "Brewed Chai tea          17183\n",
       "Gourmet brewed coffee    16912\n",
       "Barista Espresso         16403\n",
       "Hot chocolate            11468\n",
       "Brewed Black tea         11350\n",
       "Brewed herbal tea        11245\n",
       "Scone                    10173\n",
       "Organic brewed coffee     8489\n",
       "Drip coffee               8477\n",
       "Premium brewed coffee     8135\n",
       "Pastry                    6912\n",
       "Biscotti                  5711\n",
       "Brewed Green tea          5671\n",
       "Regular syrup             4979\n",
       "Sugar free syrup          1811\n",
       "Housewares                 526\n",
       "Chai tea                   443\n",
       "Organic Beans              415\n",
       "Gourmet Beans              366\n",
       "Premium Beans              336\n",
       "Espresso Beans             319\n",
       "Herbal tea                 305\n",
       "Black tea                  303\n",
       "Drinking Chocolate         266\n",
       "Organic Chocolate          221\n",
       "Clothing                   221\n",
       "House blend Beans          183\n",
       "Green tea                  159\n",
       "Green beans                134\n",
       "Name: transaction_qty, dtype: int64"
      ]
     },
     "execution_count": 29,
     "metadata": {},
     "output_type": "execute_result"
    }
   ],
   "source": [
    "data.groupby('product_type')['transaction_qty'].count().sort_values(ascending = False)"
   ]
  },
  {
   "cell_type": "code",
   "execution_count": 79,
   "id": "484caa43-dbd5-4483-b22d-b092a8bf55ad",
   "metadata": {},
   "outputs": [],
   "source": [
    "# Which product has the most sales in the morning? The 'Brewed Chai Tea' is the most active in the morning, \n",
    "# with 8,997 transactions."
   ]
  },
  {
   "cell_type": "code",
   "execution_count": 31,
   "id": "1445d20c-a187-47a4-8c14-a2d7a1203186",
   "metadata": {},
   "outputs": [
    {
     "data": {
      "text/plain": [
       "product_type\n",
       "Green beans                94\n",
       "Green tea                 108\n",
       "House blend Beans         130\n",
       "Organic Chocolate         134\n",
       "Clothing                  139\n",
       "Black tea                 188\n",
       "Drinking Chocolate        188\n",
       "Herbal tea                212\n",
       "Espresso Beans            227\n",
       "Gourmet Beans             232\n",
       "Premium Beans             233\n",
       "Organic Beans             267\n",
       "Chai tea                  289\n",
       "Housewares                322\n",
       "Sugar free syrup         1210\n",
       "Brewed Green tea         3006\n",
       "Biscotti                 3217\n",
       "Regular syrup            3488\n",
       "Premium brewed coffee    4302\n",
       "Pastry                   4384\n",
       "Drip coffee              4430\n",
       "Organic brewed coffee    4485\n",
       "Scone                    5756\n",
       "Hot chocolate            5955\n",
       "Brewed herbal tea        6013\n",
       "Brewed Black tea         6024\n",
       "Gourmet brewed coffee    8841\n",
       "Barista Espresso         8880\n",
       "Brewed Chai tea          8997\n",
       "Name: transaction_qty, dtype: int64"
      ]
     },
     "execution_count": 31,
     "metadata": {},
     "output_type": "execute_result"
    }
   ],
   "source": [
    "data.loc[data['time period'] == 'morning'].groupby('product_type')['transaction_qty'].count().sort_values()"
   ]
  },
  {
   "cell_type": "code",
   "execution_count": 83,
   "id": "6cbad73c-a8d5-419a-8005-b9b097d90039",
   "metadata": {},
   "outputs": [],
   "source": [
    "# Which product is the most active during the afternoon? The 'Gourmet brewed coffee' is the most active \n",
    "# with 6,406 transactions."
   ]
  },
  {
   "cell_type": "code",
   "execution_count": 33,
   "id": "5a9e32c7-4990-4f31-97e4-f7d4e67a1717",
   "metadata": {},
   "outputs": [
    {
     "data": {
      "text/plain": [
       "product_type\n",
       "Green beans                34\n",
       "House blend Beans          40\n",
       "Green tea                  42\n",
       "Drinking Chocolate         53\n",
       "Espresso Beans             57\n",
       "Clothing                   61\n",
       "Black tea                  79\n",
       "Organic Chocolate          79\n",
       "Herbal tea                 79\n",
       "Premium Beans              81\n",
       "Gourmet Beans             106\n",
       "Organic Beans             115\n",
       "Chai tea                  116\n",
       "Housewares                161\n",
       "Sugar free syrup          478\n",
       "Regular syrup            1205\n",
       "Pastry                   1970\n",
       "Biscotti                 2004\n",
       "Brewed Green tea         2135\n",
       "Premium brewed coffee    3059\n",
       "Drip coffee              3135\n",
       "Organic brewed coffee    3173\n",
       "Scone                    3526\n",
       "Brewed Black tea         4130\n",
       "Brewed herbal tea        4158\n",
       "Hot chocolate            4374\n",
       "Barista Espresso         5944\n",
       "Brewed Chai tea          6372\n",
       "Gourmet brewed coffee    6406\n",
       "Name: transaction_qty, dtype: int64"
      ]
     },
     "execution_count": 33,
     "metadata": {},
     "output_type": "execute_result"
    }
   ],
   "source": [
    "data.loc[data['time period'] == 'afternoon'].groupby('product_type')['transaction_qty'].count().sort_values()"
   ]
  },
  {
   "cell_type": "code",
   "execution_count": 89,
   "id": "cb724192-098c-4ee6-aa21-7a3ac3632e33",
   "metadata": {},
   "outputs": [],
   "source": [
    "# Which product is the most active in the evening? The 'Brewed chai tea' is the most active during the evening, \n",
    "# with 1,814 transactions."
   ]
  },
  {
   "cell_type": "code",
   "execution_count": 35,
   "id": "6dbedb8e-49d3-4e0c-9cca-768812b020b7",
   "metadata": {},
   "outputs": [
    {
     "data": {
      "text/plain": [
       "product_type\n",
       "Green beans                 6\n",
       "Organic Chocolate           8\n",
       "Green tea                   9\n",
       "House blend Beans          13\n",
       "Herbal tea                 14\n",
       "Clothing                   21\n",
       "Premium Beans              22\n",
       "Drinking Chocolate         25\n",
       "Gourmet Beans              28\n",
       "Organic Beans              33\n",
       "Espresso Beans             35\n",
       "Black tea                  36\n",
       "Chai tea                   38\n",
       "Housewares                 43\n",
       "Sugar free syrup          123\n",
       "Regular syrup             286\n",
       "Biscotti                  490\n",
       "Brewed Green tea          530\n",
       "Pastry                    558\n",
       "Premium brewed coffee     774\n",
       "Organic brewed coffee     831\n",
       "Scone                     891\n",
       "Drip coffee               912\n",
       "Brewed herbal tea        1074\n",
       "Hot chocolate            1139\n",
       "Brewed Black tea         1196\n",
       "Barista Espresso         1579\n",
       "Gourmet brewed coffee    1665\n",
       "Brewed Chai tea          1814\n",
       "Name: transaction_qty, dtype: int64"
      ]
     },
     "execution_count": 35,
     "metadata": {},
     "output_type": "execute_result"
    }
   ],
   "source": [
    "data.loc[data['time period'] == 'evening'].groupby('product_type')['transaction_qty'].count().sort_values()"
   ]
  },
  {
   "cell_type": "code",
   "execution_count": 97,
   "id": "f77745fc-751c-4047-a6ac-0ac248c17921",
   "metadata": {},
   "outputs": [],
   "source": [
    "# Which day of the week has the highest number of sales? Monday has the highest number of sales,\n",
    "# with 31,231 transactions."
   ]
  },
  {
   "cell_type": "code",
   "execution_count": 37,
   "id": "d810d21b-bffb-4b9d-b013-d83c6ad9d6ad",
   "metadata": {},
   "outputs": [
    {
     "data": {
      "text/plain": [
       "week day\n",
       "Monday       31231\n",
       "Friday       31207\n",
       "Thursday     31162\n",
       "Wednesday    30625\n",
       "Tuesday      30449\n",
       "Sunday       30182\n",
       "Saturday     29614\n",
       "Name: transaction_qty, dtype: int64"
      ]
     },
     "execution_count": 37,
     "metadata": {},
     "output_type": "execute_result"
    }
   ],
   "source": [
    "data.groupby('week day')['transaction_qty'].sum().sort_values(ascending = False)"
   ]
  },
  {
   "cell_type": "code",
   "execution_count": 9,
   "id": "1a4fbfca-bbcd-4e7e-813e-bb2a459772b8",
   "metadata": {},
   "outputs": [],
   "source": [
    "#We are going to try to add some charts "
   ]
  },
  {
   "cell_type": "code",
   "execution_count": 39,
   "id": "77217d15-2a8e-4b45-b6ac-d7d226769f78",
   "metadata": {},
   "outputs": [],
   "source": [
    "import matplotlib.pyplot as plt\n",
    "import seaborn as sns"
   ]
  },
  {
   "cell_type": "code",
   "execution_count": null,
   "id": "745eb7a6-d424-4760-b17f-e3c456daac54",
   "metadata": {},
   "outputs": [],
   "source": [
    "# We transform 'transaction date' into 'datetime'"
   ]
  },
  {
   "cell_type": "code",
   "execution_count": 41,
   "id": "c05338e8-224a-420e-a888-debf25411acc",
   "metadata": {},
   "outputs": [],
   "source": [
    "data['transaction_date'] = pd.to_datetime(data['transaction_date'])"
   ]
  },
  {
   "cell_type": "code",
   "execution_count": 17,
   "id": "22c59a5a-9fe7-4083-9a79-712b04179584",
   "metadata": {},
   "outputs": [],
   "source": [
    "# We group by date and sum sales"
   ]
  },
  {
   "cell_type": "code",
   "execution_count": 43,
   "id": "0ea8fd0b-7bcf-4fa2-a2d1-ddf628be633d",
   "metadata": {},
   "outputs": [],
   "source": [
    "sales_data = data.groupby('transaction_date')['transaction_qty'].sum().reset_index()"
   ]
  },
  {
   "cell_type": "code",
   "execution_count": 45,
   "id": "923375ec-f256-4466-890a-5559d5200c2d",
   "metadata": {},
   "outputs": [
    {
     "data": {
      "text/html": [
       "<div>\n",
       "<style scoped>\n",
       "    .dataframe tbody tr th:only-of-type {\n",
       "        vertical-align: middle;\n",
       "    }\n",
       "\n",
       "    .dataframe tbody tr th {\n",
       "        vertical-align: top;\n",
       "    }\n",
       "\n",
       "    .dataframe thead th {\n",
       "        text-align: right;\n",
       "    }\n",
       "</style>\n",
       "<table border=\"1\" class=\"dataframe\">\n",
       "  <thead>\n",
       "    <tr style=\"text-align: right;\">\n",
       "      <th></th>\n",
       "      <th>transaction_date</th>\n",
       "      <th>transaction_qty</th>\n",
       "    </tr>\n",
       "  </thead>\n",
       "  <tbody>\n",
       "    <tr>\n",
       "      <th>0</th>\n",
       "      <td>2023-01-01</td>\n",
       "      <td>802</td>\n",
       "    </tr>\n",
       "    <tr>\n",
       "      <th>1</th>\n",
       "      <td>2023-01-02</td>\n",
       "      <td>790</td>\n",
       "    </tr>\n",
       "    <tr>\n",
       "      <th>2</th>\n",
       "      <td>2023-01-03</td>\n",
       "      <td>823</td>\n",
       "    </tr>\n",
       "    <tr>\n",
       "      <th>3</th>\n",
       "      <td>2023-01-04</td>\n",
       "      <td>726</td>\n",
       "    </tr>\n",
       "    <tr>\n",
       "      <th>4</th>\n",
       "      <td>2023-01-05</td>\n",
       "      <td>778</td>\n",
       "    </tr>\n",
       "    <tr>\n",
       "      <th>...</th>\n",
       "      <td>...</td>\n",
       "      <td>...</td>\n",
       "    </tr>\n",
       "    <tr>\n",
       "      <th>176</th>\n",
       "      <td>2023-06-26</td>\n",
       "      <td>1837</td>\n",
       "    </tr>\n",
       "    <tr>\n",
       "      <th>177</th>\n",
       "      <td>2023-06-27</td>\n",
       "      <td>1962</td>\n",
       "    </tr>\n",
       "    <tr>\n",
       "      <th>178</th>\n",
       "      <td>2023-06-28</td>\n",
       "      <td>1531</td>\n",
       "    </tr>\n",
       "    <tr>\n",
       "      <th>179</th>\n",
       "      <td>2023-06-29</td>\n",
       "      <td>1429</td>\n",
       "    </tr>\n",
       "    <tr>\n",
       "      <th>180</th>\n",
       "      <td>2023-06-30</td>\n",
       "      <td>1590</td>\n",
       "    </tr>\n",
       "  </tbody>\n",
       "</table>\n",
       "<p>181 rows × 2 columns</p>\n",
       "</div>"
      ],
      "text/plain": [
       "    transaction_date  transaction_qty\n",
       "0         2023-01-01              802\n",
       "1         2023-01-02              790\n",
       "2         2023-01-03              823\n",
       "3         2023-01-04              726\n",
       "4         2023-01-05              778\n",
       "..               ...              ...\n",
       "176       2023-06-26             1837\n",
       "177       2023-06-27             1962\n",
       "178       2023-06-28             1531\n",
       "179       2023-06-29             1429\n",
       "180       2023-06-30             1590\n",
       "\n",
       "[181 rows x 2 columns]"
      ]
     },
     "execution_count": 45,
     "metadata": {},
     "output_type": "execute_result"
    }
   ],
   "source": [
    "sales_data"
   ]
  },
  {
   "cell_type": "code",
   "execution_count": 25,
   "id": "a51afdb7-f869-4640-a390-e1ebbb7c881b",
   "metadata": {},
   "outputs": [],
   "source": [
    "# Charts. We customize title and axis labels"
   ]
  },
  {
   "cell_type": "code",
   "execution_count": 47,
   "id": "b4643ef5-5391-4db9-a96e-94b911bc7261",
   "metadata": {},
   "outputs": [
    {
     "name": "stderr",
     "output_type": "stream",
     "text": [
      "C:\\Users\\gusta\\AppData\\Local\\Temp\\ipykernel_3184\\3582433000.py:2: FutureWarning: \n",
      "\n",
      "Passing `palette` without assigning `hue` is deprecated and will be removed in v0.14.0. Assign the `x` variable to `hue` and set `legend=False` for the same effect.\n",
      "\n",
      "  sns.barplot(x='transaction_date', y='transaction_qty', data=sales_data, palette='dark')\n"
     ]
    },
    {
     "data": {
      "image/png": "[encoded data removed]",
      "text/plain": [
       "<Figure size 1200x600 with 1 Axes>"
      ]
     },
     "metadata": {},
     "output_type": "display_data"
    }
   ],
   "source": [
    "plt.figure(figsize=(12, 6))\n",
    "sns.barplot(x='transaction_date', y='transaction_qty', data=sales_data, palette='dark')\n",
    "plt.title('Coffee Shop Sales Over Time')\n",
    "plt.xlabel('transaction_date')\n",
    "plt.ylabel('transaction_qty')\n",
    "plt.xticks(ticks=sales_data.index[::5], labels=sales_data['transaction_date'].dt.strftime('%Y-%m-%d')[::5], rotation=45)\n",
    "plt.tight_layout()\n",
    "plt.show()\n"
   ]
  },
  {
   "cell_type": "code",
   "execution_count": 17,
   "id": "03f4d0da-9576-4bb7-922a-3d9b95c375d7",
   "metadata": {},
   "outputs": [],
   "source": [
    "# We want to plot sales by day of the week"
   ]
  },
  {
   "cell_type": "code",
   "execution_count": 19,
   "id": "8af46aa7-5f80-4ad6-a656-c73c7f442d2f",
   "metadata": {},
   "outputs": [],
   "source": [
    "#We group by 'days of the week' and sum the transaction quantities"
   ]
  },
  {
   "cell_type": "code",
   "execution_count": 49,
   "id": "6c62f069-86d5-4426-9306-210b4472710c",
   "metadata": {},
   "outputs": [],
   "source": [
    "sales_per_weekday = data.groupby('week day')['transaction_qty'].sum().reset_index()"
   ]
  },
  {
   "cell_type": "code",
   "execution_count": 43,
   "id": "6e325775-a1a5-4fb5-8bed-775357be9530",
   "metadata": {},
   "outputs": [],
   "source": [
    "# We reorder 'week day' for proper visualization"
   ]
  },
  {
   "cell_type": "code",
   "execution_count": 51,
   "id": "fc24c6d6-35c9-428c-8565-d39f15800882",
   "metadata": {},
   "outputs": [],
   "source": [
    "days_order = ['Monday', 'Tuesday', 'Wednesday', 'Thursday', 'Friday', 'Saturday', 'Sunday']\n",
    "sales_per_weekday['week day'] = pd.Categorical(sales_per_weekday['week day'], categories=days_order, ordered=True)\n",
    "sales_per_weekday = sales_per_weekday.sort_values('week day')"
   ]
  },
  {
   "cell_type": "code",
   "execution_count": 61,
   "id": "faac9cae-6664-4df0-877f-d369d1e76782",
   "metadata": {},
   "outputs": [],
   "source": [
    "#Plotting 'Total Sales by Day of the week'"
   ]
  },
  {
   "cell_type": "code",
   "execution_count": 53,
   "id": "2d8ad422-141d-495b-a17a-65211e17ab76",
   "metadata": {},
   "outputs": [
    {
     "data": {
      "image/png": "[encoded data removed]",
      "text/plain": [
       "<Figure size 1000x600 with 1 Axes>"
      ]
     },
     "metadata": {},
     "output_type": "display_data"
    }
   ],
   "source": [
    "plt.figure(figsize=(10, 6))\n",
    "bars = plt.bar(sales_per_weekday['week day'], sales_per_weekday['transaction_qty'], color = 'saddlebrown')\n",
    "\n",
    "for bar in bars:\n",
    "    yval = bar.get_height()\n",
    "    plt.text(bar.get_x() + bar.get_width()/2, yval, int(yval), ha='center', va='bottom')\n",
    "\n",
    "plt.title('Sales per Weekday')\n",
    "plt.xlabel('Weekday')\n",
    "plt.ylabel('Total Sales')\n",
    "plt.xticks(rotation=45)\n",
    "plt.grid(axis='y')\n",
    "plt.show()"
   ]
  },
  {
   "cell_type": "code",
   "execution_count": 59,
   "id": "e359b541-d3bb-4f57-9aed-be9cd52b4ac6",
   "metadata": {},
   "outputs": [],
   "source": [
    "# We wish to plot which product category is the most sold, using a pie chart"
   ]
  },
  {
   "cell_type": "code",
   "execution_count": 61,
   "id": "e3ded9ea-b4ab-49c7-b824-1455ac26e1f9",
   "metadata": {},
   "outputs": [],
   "source": [
    "# We group and sum transaction quantities by product category"
   ]
  },
  {
   "cell_type": "code",
   "execution_count": 55,
   "id": "13335217-ebe1-4f7e-b42d-715930f83f69",
   "metadata": {},
   "outputs": [],
   "source": [
    "category_sales = data.groupby('product_category')['transaction_qty'].sum().sort_values()"
   ]
  },
  {
   "cell_type": "code",
   "execution_count": 57,
   "id": "4ff18231-e146-4917-bcae-1fb2b4df7435",
   "metadata": {},
   "outputs": [
    {
     "data": {
      "text/plain": [
       "product_category\n",
       "Packaged Chocolate      487\n",
       "Branded                 776\n",
       "Loose Tea              1210\n",
       "Coffee beans           1828\n",
       "Flavours              10511\n",
       "Drinking Chocolate    17457\n",
       "Bakery                23214\n",
       "Tea                   69737\n",
       "Coffee                89250\n",
       "Name: transaction_qty, dtype: int64"
      ]
     },
     "execution_count": 57,
     "metadata": {},
     "output_type": "execute_result"
    }
   ],
   "source": [
    "category_sales"
   ]
  },
  {
   "cell_type": "code",
   "execution_count": 77,
   "id": "fbc94fa8-d6f5-490f-a6de-5107a426c73e",
   "metadata": {},
   "outputs": [],
   "source": [
    "# We define which categories to show "
   ]
  },
  {
   "cell_type": "code",
   "execution_count": 59,
   "id": "20b696a8-a53c-4a8e-bbca-6cc5821b9a2b",
   "metadata": {},
   "outputs": [],
   "source": [
    "top_categories = category_sales.nlargest(5)   # Top 5 categories\n",
    "other_sales = category_sales.sum() - top_categories.sum()  # Sum of other categories\n"
   ]
  },
  {
   "cell_type": "code",
   "execution_count": 81,
   "id": "2cb77faa-a269-492e-8897-b26bc64dda8b",
   "metadata": {},
   "outputs": [],
   "source": [
    "# Create a new series including only top categories and \"Other\""
   ]
  },
  {
   "cell_type": "code",
   "execution_count": 61,
   "id": "57c86d7e-91b9-418d-a9df-9de69bcf6f08",
   "metadata": {},
   "outputs": [],
   "source": [
    "labels = top_categories.index.tolist() + ['Other']\n",
    "sizes = top_categories.tolist() + [other_sales]"
   ]
  },
  {
   "cell_type": "code",
   "execution_count": 63,
   "id": "6239e6b1-9711-4f44-aa9a-3ed949640a32",
   "metadata": {},
   "outputs": [
    {
     "data": {
      "text/plain": [
       "product_category\n",
       "Coffee                89250\n",
       "Tea                   69737\n",
       "Bakery                23214\n",
       "Drinking Chocolate    17457\n",
       "Flavours              10511\n",
       "Name: transaction_qty, dtype: int64"
      ]
     },
     "execution_count": 63,
     "metadata": {},
     "output_type": "execute_result"
    }
   ],
   "source": [
    "top_categories"
   ]
  },
  {
   "cell_type": "code",
   "execution_count": 85,
   "id": "1a09a1ce-f479-464a-8c0d-43b9481cd1cf",
   "metadata": {},
   "outputs": [],
   "source": [
    "# We create the pie chart"
   ]
  },
  {
   "cell_type": "code",
   "execution_count": 65,
   "id": "9807182e-04be-4c69-973e-f82d5018b2b3",
   "metadata": {},
   "outputs": [
    {
     "data": {
      "image/png": "[encoded data removed]",
      "text/plain": [
       "<Figure size 800x800 with 1 Axes>"
      ]
     },
     "metadata": {},
     "output_type": "display_data"
    }
   ],
   "source": [
    "plt.figure(figsize=(8, 8))\n",
    "plt.pie(sizes, labels=labels, autopct = '%1.1f%%',\n",
    "       startangle=140, colors=plt.cm.Paired.colors)\n",
    "plt.title('Sales Distribution by Product Category')\n",
    "plt.axis('equal')\n",
    "plt.show()"
   ]
  },
  {
   "cell_type": "code",
   "execution_count": 87,
   "id": "91ae089f-2b9d-4935-8943-cb921ecb6f0e",
   "metadata": {},
   "outputs": [],
   "source": [
    "# We build a bar chart to show sales during the three different\n",
    "# time periods of the day: morning, afternoon and evening; and which product type\n",
    "# is the most sold"
   ]
  },
  {
   "cell_type": "code",
   "execution_count": 89,
   "id": "32e6e2e9-9c1e-4607-a08b-09d9c1c3a452",
   "metadata": {},
   "outputs": [],
   "source": [
    "# First, we aggregate transaction quantities by time period"
   ]
  },
  {
   "cell_type": "code",
   "execution_count": 67,
   "id": "6d60b1d9-b443-4da5-a3fa-6137726406e3",
   "metadata": {},
   "outputs": [],
   "source": [
    "sales_by_time = data.groupby('time period')['transaction_qty'].sum()"
   ]
  },
  {
   "cell_type": "code",
   "execution_count": 69,
   "id": "5191f320-c2eb-4f93-a3f2-db7393e190e5",
   "metadata": {},
   "outputs": [
    {
     "data": {
      "text/plain": [
       "time period\n",
       "afternoon     76540\n",
       "evening       20301\n",
       "morning      117629\n",
       "Name: transaction_qty, dtype: int64"
      ]
     },
     "execution_count": 69,
     "metadata": {},
     "output_type": "execute_result"
    }
   ],
   "source": [
    "sales_by_time"
   ]
  },
  {
   "cell_type": "code",
   "execution_count": 73,
   "id": "1cac02af-ae98-4c0d-baef-68202bc11036",
   "metadata": {},
   "outputs": [],
   "source": [
    "# Next, we count transactions by product type for each time period"
   ]
  },
  {
   "cell_type": "code",
   "execution_count": 71,
   "id": "34dccd51-9318-4f8d-b401-714ea4d4f4fe",
   "metadata": {},
   "outputs": [],
   "source": [
    "morning_counts = data.loc[data['time period'] == 'morning'].groupby('product_type')['transaction_qty'].count()\n",
    "afternoon_counts = data.loc[data['time period'] == 'afternoon'].groupby('product_type')['transaction_qty'].count()\n",
    "evening_counts = data.loc[data['time period'] == 'evening'].groupby('product_type')['transaction_qty'].count()\n"
   ]
  },
  {
   "cell_type": "code",
   "execution_count": 83,
   "id": "d0c0b604-1246-4db6-afd1-e258ea256b71",
   "metadata": {},
   "outputs": [],
   "source": [
    "# We combine counts into a DataFrame for easy plotting"
   ]
  },
  {
   "cell_type": "code",
   "execution_count": 75,
   "id": "1e770022-6313-4026-8af6-436fa468fce7",
   "metadata": {},
   "outputs": [],
   "source": [
    "counts_df = pd.DataFrame({\n",
    "    'Morning': morning_counts,\n",
    "    'Afternoon': afternoon_counts,\n",
    "    'Evening': evening_counts\n",
    "}).fillna(0)"
   ]
  },
  {
   "cell_type": "code",
   "execution_count": 79,
   "id": "e49b54d2-4ce3-41c2-8eff-1cf0e4681c3f",
   "metadata": {},
   "outputs": [],
   "source": [
    "#We want to show the top 5 product type sold buy time period"
   ]
  },
  {
   "cell_type": "code",
   "execution_count": 81,
   "id": "c32df373-df0c-49c3-a787-5dc67607c47f",
   "metadata": {},
   "outputs": [],
   "source": [
    "top_n = 5 \n",
    "counts_df = counts_df.nlargest(top_n, 'Morning')"
   ]
  },
  {
   "cell_type": "code",
   "execution_count": 83,
   "id": "c95e94c5-f9ba-41c3-8b65-9cf3124744cc",
   "metadata": {},
   "outputs": [],
   "source": [
    "# Plottting the data"
   ]
  },
  {
   "cell_type": "code",
   "execution_count": 85,
   "id": "6b537e23-cd53-4238-92cc-76f3c23d2651",
   "metadata": {},
   "outputs": [
    {
     "data": {
      "image/png": "[encoded data removed]",
      "text/plain": [
       "<Figure size 1200x600 with 1 Axes>"
      ]
     },
     "metadata": {},
     "output_type": "display_data"
    }
   ],
   "source": [
    "plt.figure(figsize=(12, 6))\n",
    "bars_morning = plt.bar(counts_df.index, counts_df['Morning'], label='Morning', color='lightblue', width=0.25, align='center')\n",
    "bars_afternoon = plt.bar(counts_df.index, counts_df['Afternoon'], label='Afternoon', color='orange', width=0.25, align='edge' )\n",
    "bars_evening = plt.bar(counts_df.index, counts_df['Evening'], label='Evening', color='lightgreen', width=0.25, align='edge')\n",
    "\n",
    "for bar in bars_morning:\n",
    "    yval=bar.get_height()\n",
    "    plt.text(bar.get_x() + bar.get_width()/2, yval, int(yval), ha='center', va='bottom')\n",
    "\n",
    "for bar in bars_afternoon:\n",
    "    yval= bar.get_height()\n",
    "    plt.text(bar.get_x() + bar.get_width()/2 + 0.25, yval, int(yval), ha='center', va='bottom')\n",
    "\n",
    "for bar in bars_evening:\n",
    "    yval = bar.get_height()\n",
    "    plt.text(bar.get_x() + bar.get_width()/2 + 0.5, yval, int(yval), ha='center', va='bottom')\n",
    "\n",
    "plt.title('Sales by Time of Day and Product Type (Top 5)')\n",
    "plt.xlabel('Product Type')\n",
    "plt.ylabel('Number of Transactions')\n",
    "plt.xticks(rotation=45)\n",
    "plt.legend()\n",
    "plt.grid(axis='y')\n",
    "plt.tight_layout()\n",
    "plt.show()\n",
    "    "
   ]
  },
  {
   "cell_type": "code",
   "execution_count": null,
   "id": "381a484f-9b30-4e20-b4df-b88c53df1cf0",
   "metadata": {},
   "outputs": [],
   "source": []
  }
 ],
 "metadata": {
  "kernelspec": {
   "display_name": "Python 3 (ipykernel)",
   "language": "python",
   "name": "python3"
  },
  "language_info": {
   "codemirror_mode": {
    "name": "ipython",
    "version": 3
   },
   "file_extension": ".py",
   "mimetype": "text/x-python",
   "name": "python",
   "nbconvert_exporter": "python",
   "pygments_lexer": "ipython3",
   "version": "3.12.4"
  }
 },
 "nbformat": 4,
 "nbformat_minor": 5
}
